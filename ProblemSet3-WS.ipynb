{
 "cells": [
  {
   "cell_type": "code",
   "execution_count": 14,
   "metadata": {},
   "outputs": [
    {
     "name": "stdout",
     "output_type": "stream",
     "text": [
      "The highest water level is 6.647.\n",
      "It was observed at 2018-10-10 18:06\n"
     ]
    }
   ],
   "source": [
    "#Problem 1 (5 pts): \n",
    "#Write a script (or Jupyter Notebook code block) that opens the file, uses a for loop to read through the file line by line and reports the highest water level and the date and time that was observed.\n",
    "\n",
    "#open the file\n",
    "fhand=open('/blue/bsc4452/share/Class_Files/data/CO-OPS__8729108__wl.csv')\n",
    "#Creat variables to save the highest water level and the date and the time that was observed\n",
    "MaxWaterLevel=0\n",
    "TimeMaxWater=True\n",
    "#Read the file line by line, and find the maximal water level.\n",
    "for line in fhand:\n",
    "    try:\n",
    "        Level=float(line[17:22])\n",
    "    except:\n",
    "        continue\n",
    "    if Level<MaxWaterLevel or Level==MaxWaterLevel:\n",
    "        continue\n",
    "    elif Level>MaxWaterLevel:\n",
    "        MaxWaterLevel=Level\n",
    "        TimeMaxWater=line[0:16]\n",
    "\n",
    "print (f\"The highest water level is {MaxWaterLevel}.\")\n",
    "print (f\"It was observed at {TimeMaxWater}\")"
   ]
  },
  {
   "cell_type": "code",
   "execution_count": 19,
   "metadata": {},
   "outputs": [
    {
     "name": "stdout",
     "output_type": "stream",
     "text": [
      "The highest water level is 6.647 observed at 2018-10-10 18:06\n",
      "The lowest water level is 1.621 observed at 2018-10-11 15:36\n",
      "The average water level is 0.6046519337016574\n"
     ]
    }
   ],
   "source": [
    "#Problem 2 (5 pts):\n",
    "#Either in a new script or modifying the above script, calculate the lowest, highest and average water level observed during the time period. As above, print the date and time for the lowest and highest readings. \n",
    "\n",
    "#open the file\n",
    "fhand=open('/blue/bsc4452/share/Class_Files/data/CO-OPS__8729108__wl.csv')\n",
    "#Creat variables \n",
    "MaxWaterLevel=0\n",
    "MinWaterLevel=100\n",
    "Sum=0\n",
    "Count=0\n",
    "TimeMaxWater=True\n",
    "TimeMinWater=True\n",
    "#Read the file line by line, and find the maximal water level.\n",
    "for line in fhand:\n",
    "    try:\n",
    "        Level=float(line[17:22])\n",
    "        Count=Count+1\n",
    "    except:\n",
    "        continue\n",
    "    if Level<MinWaterLevel or Level==MinWaterLevel: #locate the lowest water level\n",
    "        MinWaterLevel=Level\n",
    "        TimeMinWater=line[0:16]\n",
    "        Sum=Sum+Level\n",
    "    elif Level>MaxWaterLevel: #locate the highest water level\n",
    "        MaxWaterLevel=Level\n",
    "        TimeMaxWater=line[0:16]\n",
    "        Sum=Sum+Level\n",
    "AverageLevel=Sum/Count\n",
    "print (f\"The highest water level is {MaxWaterLevel} observed at {TimeMaxWater}\")\n",
    "print (f\"The lowest water level is {MinWaterLevel} observed at {TimeMinWater}\")\n",
    "print (f\"The average water level is {AverageLevel}\")\n"
   ]
  },
  {
   "cell_type": "code",
   "execution_count": null,
   "metadata": {},
   "outputs": [],
   "source": []
  }
 ],
 "metadata": {
  "kernelspec": {
   "display_name": "Python 3.8 (basic)",
   "language": "python",
   "name": "python3"
  },
  "language_info": {
   "codemirror_mode": {
    "name": "ipython",
    "version": 3
   },
   "file_extension": ".py",
   "mimetype": "text/x-python",
   "name": "python",
   "nbconvert_exporter": "python",
   "pygments_lexer": "ipython3",
   "version": "3.8.1"
  }
 },
 "nbformat": 4,
 "nbformat_minor": 4
}
